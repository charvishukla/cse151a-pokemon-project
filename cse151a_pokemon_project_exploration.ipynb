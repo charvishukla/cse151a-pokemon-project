{
  "nbformat": 4,
  "nbformat_minor": 0,
  "metadata": {
    "colab": {
      "provenance": []
    },
    "kernelspec": {
      "name": "python3",
      "display_name": "Python 3"
    },
    "language_info": {
      "name": "python"
    }
  },
  "cells": [
    {
      "cell_type": "code",
      "execution_count": null,
      "metadata": {
        "id": "uZlXiRXTeB8Z"
      },
      "outputs": [],
      "source": [
        "!git clone https://github.com/charvishukla/cse151a-pokemon-project.git"
      ]
    },
    {
      "cell_type": "code",
      "source": [
        "import pandas as pd\n",
        "import seaborn as sns\n",
        "from sklearn.model_selection import train_test_split"
      ],
      "metadata": {
        "id": "-RMtxF1BgaxE"
      },
      "execution_count": null,
      "outputs": []
    },
    {
      "cell_type": "code",
      "source": [
        "# IMPORT DATASET HERE\n",
        "df = pd.read_csv(\"something here\")\n",
        "df[\"feature here\"].unique()\n",
        "df.shape\n",
        "df.dropna()"
      ],
      "metadata": {
        "id": "5-QOKXiXi82J"
      },
      "execution_count": null,
      "outputs": []
    },
    {
      "cell_type": "code",
      "source": [
        "sns.pairplot(df)"
      ],
      "metadata": {
        "id": "alJ_hnZQjw_H"
      },
      "execution_count": null,
      "outputs": []
    },
    {
      "cell_type": "code",
      "source": [
        "df.describe()"
      ],
      "metadata": {
        "id": "IoqX3Nmgj_Qh"
      },
      "execution_count": null,
      "outputs": []
    },
    {
      "cell_type": "code",
      "source": [
        "# Correlation heatmaps? (drop non numerics)\n",
        "sns.heatmap(corr, vmin=-1, vmax=1, center=0, annot=True, cmap= 'RdBu')"
      ],
      "metadata": {
        "id": "jQu2s_iHl06_"
      },
      "execution_count": null,
      "outputs": []
    }
  ]
}