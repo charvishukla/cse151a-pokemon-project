{
 "cells": [
  {
   "cell_type": "markdown",
   "id": "0cf97ecc-7864-4d8f-ac6a-4293f010575d",
   "metadata": {},
   "source": [
    "# Milestone 3: Preprocessing"
   ]
  },
  {
   "cell_type": "markdown",
   "id": "4bb94dbf-3c8b-4110-bfac-2eaec3fd4514",
   "metadata": {},
   "source": [
    "In the previous milestone, we merged the **TCG** and **Price Guide** datasets. We saved the resulting dataframe as a `.csv` file. For this milestone, we will first begin by normalizing our data and encoding our categorical variables. We will then train and evaluate our first model. Let's begin my importing important libraries. "
   ]
  },
  {
   "cell_type": "markdown",
   "id": "fd2a3201-640f-4944-b19d-ae9550a3d939",
   "metadata": {},
   "source": [
    "### Imports"
   ]
  },
  {
   "cell_type": "code",
   "execution_count": 13,
   "id": "831f5596-50ce-450f-9c4c-e4502d135b3c",
   "metadata": {},
   "outputs": [],
   "source": [
    "import pandas as pd\n",
    "import seaborn as sns\n",
    "import numpy as np\n",
    "from scipy import stats\n",
    "import matplotlib.pyplot as plt\n",
    "from sklearn.preprocessing import LabelEncoder\n",
    "import numpy as np\n",
    "from scipy.stats import zscore"
   ]
  },
  {
   "cell_type": "markdown",
   "id": "a888dc43-7041-4060-bb82-5875b133ae45",
   "metadata": {},
   "source": [
    "### Data Loading"
   ]
  },
  {
   "cell_type": "code",
   "execution_count": 8,
   "id": "c57ec2d8-d1e3-471f-8188-fb0f3809ae13",
   "metadata": {},
   "outputs": [
    {
     "data": {
      "text/html": [
       "<div>\n",
       "<style scoped>\n",
       "    .dataframe tbody tr th:only-of-type {\n",
       "        vertical-align: middle;\n",
       "    }\n",
       "\n",
       "    .dataframe tbody tr th {\n",
       "        vertical-align: top;\n",
       "    }\n",
       "\n",
       "    .dataframe thead th {\n",
       "        text-align: right;\n",
       "    }\n",
       "</style>\n",
       "<table border=\"1\" class=\"dataframe\">\n",
       "  <thead>\n",
       "    <tr style=\"text-align: right;\">\n",
       "      <th></th>\n",
       "      <th>id</th>\n",
       "      <th>loose-price</th>\n",
       "      <th>graded-price</th>\n",
       "      <th>box-only-price</th>\n",
       "      <th>manual-only-price</th>\n",
       "      <th>bgs-10-price</th>\n",
       "      <th>condition-17-price</th>\n",
       "      <th>condition-18-price</th>\n",
       "      <th>sales-volume</th>\n",
       "      <th>hp</th>\n",
       "    </tr>\n",
       "  </thead>\n",
       "  <tbody>\n",
       "    <tr>\n",
       "      <th>count</th>\n",
       "      <td>3.030000e+04</td>\n",
       "      <td>30132.000000</td>\n",
       "      <td>23242.000000</td>\n",
       "      <td>23345.000000</td>\n",
       "      <td>22502.000000</td>\n",
       "      <td>22504.000000</td>\n",
       "      <td>22653.000000</td>\n",
       "      <td>22507.000000</td>\n",
       "      <td>30300.000000</td>\n",
       "      <td>25631.000000</td>\n",
       "    </tr>\n",
       "    <tr>\n",
       "      <th>mean</th>\n",
       "      <td>1.815578e+06</td>\n",
       "      <td>9.113746</td>\n",
       "      <td>40.473400</td>\n",
       "      <td>50.029936</td>\n",
       "      <td>169.867231</td>\n",
       "      <td>260.751890</td>\n",
       "      <td>144.303368</td>\n",
       "      <td>101.864726</td>\n",
       "      <td>48.108482</td>\n",
       "      <td>96.110569</td>\n",
       "    </tr>\n",
       "    <tr>\n",
       "      <th>std</th>\n",
       "      <td>1.610918e+06</td>\n",
       "      <td>57.197150</td>\n",
       "      <td>203.630556</td>\n",
       "      <td>280.753070</td>\n",
       "      <td>1698.911993</td>\n",
       "      <td>2705.228337</td>\n",
       "      <td>641.144056</td>\n",
       "      <td>1019.301576</td>\n",
       "      <td>102.838685</td>\n",
       "      <td>52.140362</td>\n",
       "    </tr>\n",
       "    <tr>\n",
       "      <th>min</th>\n",
       "      <td>2.522800e+04</td>\n",
       "      <td>0.010000</td>\n",
       "      <td>0.140000</td>\n",
       "      <td>0.990000</td>\n",
       "      <td>0.980000</td>\n",
       "      <td>0.990000</td>\n",
       "      <td>1.000000</td>\n",
       "      <td>1.000000</td>\n",
       "      <td>1.000000</td>\n",
       "      <td>10.000000</td>\n",
       "    </tr>\n",
       "    <tr>\n",
       "      <th>25%</th>\n",
       "      <td>8.887088e+05</td>\n",
       "      <td>1.340000</td>\n",
       "      <td>12.060000</td>\n",
       "      <td>13.000000</td>\n",
       "      <td>34.910000</td>\n",
       "      <td>52.000000</td>\n",
       "      <td>44.000000</td>\n",
       "      <td>21.000000</td>\n",
       "      <td>5.000000</td>\n",
       "      <td>60.000000</td>\n",
       "    </tr>\n",
       "    <tr>\n",
       "      <th>50%</th>\n",
       "      <td>9.596655e+05</td>\n",
       "      <td>1.990000</td>\n",
       "      <td>16.065000</td>\n",
       "      <td>18.000000</td>\n",
       "      <td>42.720000</td>\n",
       "      <td>65.000000</td>\n",
       "      <td>50.000000</td>\n",
       "      <td>26.000000</td>\n",
       "      <td>12.000000</td>\n",
       "      <td>80.000000</td>\n",
       "    </tr>\n",
       "    <tr>\n",
       "      <th>75%</th>\n",
       "      <td>2.254008e+06</td>\n",
       "      <td>4.292500</td>\n",
       "      <td>29.807500</td>\n",
       "      <td>33.000000</td>\n",
       "      <td>90.045000</td>\n",
       "      <td>137.000000</td>\n",
       "      <td>99.990000</td>\n",
       "      <td>54.000000</td>\n",
       "      <td>38.000000</td>\n",
       "      <td>120.000000</td>\n",
       "    </tr>\n",
       "    <tr>\n",
       "      <th>max</th>\n",
       "      <td>7.747251e+06</td>\n",
       "      <td>4223.260000</td>\n",
       "      <td>17033.540000</td>\n",
       "      <td>27550.000000</td>\n",
       "      <td>221599.740000</td>\n",
       "      <td>332400.000000</td>\n",
       "      <td>42316.000000</td>\n",
       "      <td>132960.000000</td>\n",
       "      <td>1837.000000</td>\n",
       "      <td>340.000000</td>\n",
       "    </tr>\n",
       "  </tbody>\n",
       "</table>\n",
       "</div>"
      ],
      "text/plain": [
       "                 id   loose-price  graded-price  box-only-price  \\\n",
       "count  3.030000e+04  30132.000000  23242.000000    23345.000000   \n",
       "mean   1.815578e+06      9.113746     40.473400       50.029936   \n",
       "std    1.610918e+06     57.197150    203.630556      280.753070   \n",
       "min    2.522800e+04      0.010000      0.140000        0.990000   \n",
       "25%    8.887088e+05      1.340000     12.060000       13.000000   \n",
       "50%    9.596655e+05      1.990000     16.065000       18.000000   \n",
       "75%    2.254008e+06      4.292500     29.807500       33.000000   \n",
       "max    7.747251e+06   4223.260000  17033.540000    27550.000000   \n",
       "\n",
       "       manual-only-price   bgs-10-price  condition-17-price  \\\n",
       "count       22502.000000   22504.000000        22653.000000   \n",
       "mean          169.867231     260.751890          144.303368   \n",
       "std          1698.911993    2705.228337          641.144056   \n",
       "min             0.980000       0.990000            1.000000   \n",
       "25%            34.910000      52.000000           44.000000   \n",
       "50%            42.720000      65.000000           50.000000   \n",
       "75%            90.045000     137.000000           99.990000   \n",
       "max        221599.740000  332400.000000        42316.000000   \n",
       "\n",
       "       condition-18-price  sales-volume            hp  \n",
       "count        22507.000000  30300.000000  25631.000000  \n",
       "mean           101.864726     48.108482     96.110569  \n",
       "std           1019.301576    102.838685     52.140362  \n",
       "min              1.000000      1.000000     10.000000  \n",
       "25%             21.000000      5.000000     60.000000  \n",
       "50%             26.000000     12.000000     80.000000  \n",
       "75%             54.000000     38.000000    120.000000  \n",
       "max         132960.000000   1837.000000    340.000000  "
      ]
     },
     "execution_count": 8,
     "metadata": {},
     "output_type": "execute_result"
    }
   ],
   "source": [
    "price_guide_tcg = pd.read_csv(\"price_guide_tcg_cleaned.csv\", low_memory=False)\n",
    "price_guide_tcg.describe()"
   ]
  },
  {
   "cell_type": "code",
   "execution_count": 10,
   "id": "647016cf-9d0c-405d-8a27-54266ed3ff0e",
   "metadata": {},
   "outputs": [
    {
     "data": {
      "text/plain": [
       "Index(['tcg_id', 'id', 'console-name', 'product-name', 'loose-price',\n",
       "       'graded-price', 'box-only-price', 'manual-only-price', 'bgs-10-price',\n",
       "       'condition-17-price', 'condition-18-price', 'sales-volume',\n",
       "       'release-date', 'set', 'series', 'publisher', 'generation',\n",
       "       'release_date', 'artist', 'name', 'set_num', 'types', 'supertype',\n",
       "       'subtypes', 'hp', 'weaknesses', 'rarity', 'legalities', 'resistances'],\n",
       "      dtype='object')"
      ]
     },
     "execution_count": 10,
     "metadata": {},
     "output_type": "execute_result"
    }
   ],
   "source": [
    "price_guide_tcg.columns"
   ]
  },
  {
   "cell_type": "markdown",
   "id": "28b79e1c-c2e0-48d8-81bf-1acb435aacc3",
   "metadata": {},
   "source": [
    "## Categorical Variable Encoding"
   ]
  },
  {
   "cell_type": "code",
   "execution_count": null,
   "id": "fc06383c-e97c-4317-91e0-aed8eb54b4da",
   "metadata": {},
   "outputs": [],
   "source": [
    "categorical_columns = ['console-name', 'product-name', 'set', 'series', 'publisher', 'generation', 'rarity']"
   ]
  }
 ],
 "metadata": {
  "kernelspec": {
   "display_name": "Python 3 (ipykernel)",
   "language": "python",
   "name": "python3"
  },
  "language_info": {
   "codemirror_mode": {
    "name": "ipython",
    "version": 3
   },
   "file_extension": ".py",
   "mimetype": "text/x-python",
   "name": "python",
   "nbconvert_exporter": "python",
   "pygments_lexer": "ipython3",
   "version": "3.12.2"
  }
 },
 "nbformat": 4,
 "nbformat_minor": 5
}
