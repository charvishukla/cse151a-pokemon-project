{
 "cells": [
  {
   "cell_type": "code",
   "execution_count": 1,
   "metadata": {
    "id": "uZlXiRXTeB8Z"
   },
   "outputs": [
    {
     "name": "stdout",
     "output_type": "stream",
     "text": [
      "fatal: destination path 'cse151a-pokemon-project' already exists and is not an empty directory.\n"
     ]
    }
   ],
   "source": [
    "!git clone https://github.com/charvishukla/cse151a-pokemon-project.git"
   ]
  },
  {
   "cell_type": "markdown",
   "metadata": {},
   "source": [
    "# Milestone 2:  Data Exploration & Initial Preprocessing"
   ]
  },
  {
   "cell_type": "markdown",
   "metadata": {},
   "source": [
    "# Imports "
   ]
  },
  {
   "cell_type": "code",
   "execution_count": 148,
   "metadata": {
    "id": "-RMtxF1BgaxE"
   },
   "outputs": [],
   "source": [
    "import pandas as pd\n",
    "import seaborn as sns\n",
    "import numpy as np\n",
    "from scipy import stats\n",
    "from sklearn.model_selection import train_test_split\n",
    "import matplotlib.pyplot as plt"
   ]
  },
  {
   "cell_type": "markdown",
   "metadata": {},
   "source": [
    "# Loading Datasets:"
   ]
  },
  {
   "cell_type": "code",
   "execution_count": 151,
   "metadata": {},
   "outputs": [
    {
     "data": {
      "text/html": [
       "<div>\n",
       "<style scoped>\n",
       "    .dataframe tbody tr th:only-of-type {\n",
       "        vertical-align: middle;\n",
       "    }\n",
       "\n",
       "    .dataframe tbody tr th {\n",
       "        vertical-align: top;\n",
       "    }\n",
       "\n",
       "    .dataframe thead th {\n",
       "        text-align: right;\n",
       "    }\n",
       "</style>\n",
       "<table border=\"1\" class=\"dataframe\">\n",
       "  <thead>\n",
       "    <tr style=\"text-align: right;\">\n",
       "      <th></th>\n",
       "      <th>hp</th>\n",
       "      <th>convertedRetreatCost</th>\n",
       "    </tr>\n",
       "  </thead>\n",
       "  <tbody>\n",
       "    <tr>\n",
       "      <th>count</th>\n",
       "      <td>14536.000000</td>\n",
       "      <td>13678.000000</td>\n",
       "    </tr>\n",
       "    <tr>\n",
       "      <th>mean</th>\n",
       "      <td>104.839708</td>\n",
       "      <td>1.699664</td>\n",
       "    </tr>\n",
       "    <tr>\n",
       "      <th>std</th>\n",
       "      <td>61.041205</td>\n",
       "      <td>0.866636</td>\n",
       "    </tr>\n",
       "    <tr>\n",
       "      <th>min</th>\n",
       "      <td>10.000000</td>\n",
       "      <td>1.000000</td>\n",
       "    </tr>\n",
       "    <tr>\n",
       "      <th>25%</th>\n",
       "      <td>60.000000</td>\n",
       "      <td>1.000000</td>\n",
       "    </tr>\n",
       "    <tr>\n",
       "      <th>50%</th>\n",
       "      <td>80.000000</td>\n",
       "      <td>1.000000</td>\n",
       "    </tr>\n",
       "    <tr>\n",
       "      <th>75%</th>\n",
       "      <td>130.000000</td>\n",
       "      <td>2.000000</td>\n",
       "    </tr>\n",
       "    <tr>\n",
       "      <th>max</th>\n",
       "      <td>340.000000</td>\n",
       "      <td>5.000000</td>\n",
       "    </tr>\n",
       "  </tbody>\n",
       "</table>\n",
       "</div>"
      ],
      "text/plain": [
       "                 hp  convertedRetreatCost\n",
       "count  14536.000000          13678.000000\n",
       "mean     104.839708              1.699664\n",
       "std       61.041205              0.866636\n",
       "min       10.000000              1.000000\n",
       "25%       60.000000              1.000000\n",
       "50%       80.000000              1.000000\n",
       "75%      130.000000              2.000000\n",
       "max      340.000000              5.000000"
      ]
     },
     "execution_count": 151,
     "metadata": {},
     "output_type": "execute_result"
    }
   ],
   "source": [
    "pokemon_TCG= pd.read_csv(\"pokemon-tcg-dataset(1999-2023).csv\")\n",
    "pokemon_TCG.describe()"
   ]
  },
  {
   "cell_type": "code",
   "execution_count": 153,
   "metadata": {
    "id": "IoqX3Nmgj_Qh"
   },
   "outputs": [
    {
     "data": {
      "text/html": [
       "<div>\n",
       "<style scoped>\n",
       "    .dataframe tbody tr th:only-of-type {\n",
       "        vertical-align: middle;\n",
       "    }\n",
       "\n",
       "    .dataframe tbody tr th {\n",
       "        vertical-align: top;\n",
       "    }\n",
       "\n",
       "    .dataframe thead th {\n",
       "        text-align: right;\n",
       "    }\n",
       "</style>\n",
       "<table border=\"1\" class=\"dataframe\">\n",
       "  <thead>\n",
       "    <tr style=\"text-align: right;\">\n",
       "      <th></th>\n",
       "      <th>id</th>\n",
       "      <th>gamestop-price</th>\n",
       "      <th>gamestop-trade-price</th>\n",
       "      <th>upc</th>\n",
       "      <th>sales-volume</th>\n",
       "      <th>genre</th>\n",
       "      <th>asin</th>\n",
       "      <th>epid</th>\n",
       "    </tr>\n",
       "  </thead>\n",
       "  <tbody>\n",
       "    <tr>\n",
       "      <th>count</th>\n",
       "      <td>6.029600e+04</td>\n",
       "      <td>0.0</td>\n",
       "      <td>0.0</td>\n",
       "      <td>1.000000e+00</td>\n",
       "      <td>60296.000000</td>\n",
       "      <td>0.0</td>\n",
       "      <td>0.0</td>\n",
       "      <td>0.0</td>\n",
       "    </tr>\n",
       "    <tr>\n",
       "      <th>mean</th>\n",
       "      <td>3.126286e+06</td>\n",
       "      <td>NaN</td>\n",
       "      <td>NaN</td>\n",
       "      <td>8.206501e+11</td>\n",
       "      <td>37.243996</td>\n",
       "      <td>NaN</td>\n",
       "      <td>NaN</td>\n",
       "      <td>NaN</td>\n",
       "    </tr>\n",
       "    <tr>\n",
       "      <th>std</th>\n",
       "      <td>2.003219e+06</td>\n",
       "      <td>NaN</td>\n",
       "      <td>NaN</td>\n",
       "      <td>NaN</td>\n",
       "      <td>111.923299</td>\n",
       "      <td>NaN</td>\n",
       "      <td>NaN</td>\n",
       "      <td>NaN</td>\n",
       "    </tr>\n",
       "    <tr>\n",
       "      <th>min</th>\n",
       "      <td>2.522800e+04</td>\n",
       "      <td>NaN</td>\n",
       "      <td>NaN</td>\n",
       "      <td>8.206501e+11</td>\n",
       "      <td>1.000000</td>\n",
       "      <td>NaN</td>\n",
       "      <td>NaN</td>\n",
       "      <td>NaN</td>\n",
       "    </tr>\n",
       "    <tr>\n",
       "      <th>25%</th>\n",
       "      <td>9.592028e+05</td>\n",
       "      <td>NaN</td>\n",
       "      <td>NaN</td>\n",
       "      <td>8.206501e+11</td>\n",
       "      <td>2.000000</td>\n",
       "      <td>NaN</td>\n",
       "      <td>NaN</td>\n",
       "      <td>NaN</td>\n",
       "    </tr>\n",
       "    <tr>\n",
       "      <th>50%</th>\n",
       "      <td>3.457958e+06</td>\n",
       "      <td>NaN</td>\n",
       "      <td>NaN</td>\n",
       "      <td>8.206501e+11</td>\n",
       "      <td>7.000000</td>\n",
       "      <td>NaN</td>\n",
       "      <td>NaN</td>\n",
       "      <td>NaN</td>\n",
       "    </tr>\n",
       "    <tr>\n",
       "      <th>75%</th>\n",
       "      <td>4.614387e+06</td>\n",
       "      <td>NaN</td>\n",
       "      <td>NaN</td>\n",
       "      <td>8.206501e+11</td>\n",
       "      <td>23.000000</td>\n",
       "      <td>NaN</td>\n",
       "      <td>NaN</td>\n",
       "      <td>NaN</td>\n",
       "    </tr>\n",
       "    <tr>\n",
       "      <th>max</th>\n",
       "      <td>7.747398e+06</td>\n",
       "      <td>NaN</td>\n",
       "      <td>NaN</td>\n",
       "      <td>8.206501e+11</td>\n",
       "      <td>11000.000000</td>\n",
       "      <td>NaN</td>\n",
       "      <td>NaN</td>\n",
       "      <td>NaN</td>\n",
       "    </tr>\n",
       "  </tbody>\n",
       "</table>\n",
       "</div>"
      ],
      "text/plain": [
       "                 id  gamestop-price  gamestop-trade-price           upc  \\\n",
       "count  6.029600e+04             0.0                   0.0  1.000000e+00   \n",
       "mean   3.126286e+06             NaN                   NaN  8.206501e+11   \n",
       "std    2.003219e+06             NaN                   NaN           NaN   \n",
       "min    2.522800e+04             NaN                   NaN  8.206501e+11   \n",
       "25%    9.592028e+05             NaN                   NaN  8.206501e+11   \n",
       "50%    3.457958e+06             NaN                   NaN  8.206501e+11   \n",
       "75%    4.614387e+06             NaN                   NaN  8.206501e+11   \n",
       "max    7.747398e+06             NaN                   NaN  8.206501e+11   \n",
       "\n",
       "       sales-volume  genre  asin  epid  \n",
       "count  60296.000000    0.0   0.0   0.0  \n",
       "mean      37.243996    NaN   NaN   NaN  \n",
       "std      111.923299    NaN   NaN   NaN  \n",
       "min        1.000000    NaN   NaN   NaN  \n",
       "25%        2.000000    NaN   NaN   NaN  \n",
       "50%        7.000000    NaN   NaN   NaN  \n",
       "75%       23.000000    NaN   NaN   NaN  \n",
       "max    11000.000000    NaN   NaN   NaN  "
      ]
     },
     "execution_count": 153,
     "metadata": {},
     "output_type": "execute_result"
    }
   ],
   "source": [
    "price_guide = pd.read_csv(\"price-guide.csv\", low_memory=False)\n",
    "price_guide.columns\n",
    "price_guide.describe()"
   ]
  },
  {
   "cell_type": "markdown",
   "metadata": {},
   "source": [
    "# Exploratory Data Analysis: Price Guide Dataset\n",
    "\n",
    "Note that the price guide dataset was scraped from the internet using the price charting API available with a premium Price Charts Subscription. We scraped 60296 examples with 27 features (i.e. 60296 rows and 27 columns). "
   ]
  },
  {
   "cell_type": "code",
   "execution_count": 156,
   "metadata": {},
   "outputs": [
    {
     "name": "stdout",
     "output_type": "stream",
     "text": [
      "Dataset Shape  (60296, 27)\n"
     ]
    }
   ],
   "source": [
    "print(\"Dataset Shape \", price_guide.shape)"
   ]
  },
  {
   "cell_type": "markdown",
   "metadata": {},
   "source": [
    "We will begin by exploring the data types of all columns in the price_guide DataFrame. "
   ]
  },
  {
   "cell_type": "code",
   "execution_count": 159,
   "metadata": {},
   "outputs": [
    {
     "data": {
      "text/plain": [
       "Index(['id', 'console-name', 'product-name', 'loose-price', 'cib-price',\n",
       "       'new-price', 'graded-price', 'box-only-price', 'manual-only-price',\n",
       "       'bgs-10-price', 'condition-17-price', 'condition-18-price',\n",
       "       'gamestop-price', 'gamestop-trade-price', 'retail-loose-buy',\n",
       "       'retail-loose-sell', 'retail-cib-buy', 'retail-cib-sell',\n",
       "       'retail-new-buy', 'retail-new-sell', 'upc', 'sales-volume', 'genre',\n",
       "       'tcg-id', 'asin', 'epid', 'release-date'],\n",
       "      dtype='object')"
      ]
     },
     "execution_count": 159,
     "metadata": {},
     "output_type": "execute_result"
    }
   ],
   "source": [
    "price_guide.columns"
   ]
  },
  {
   "cell_type": "markdown",
   "metadata": {},
   "source": [
    "### Number of Null rows by column\n",
    "\n",
    "We need to determine the number of entries in each column. This will help us reason about which columns are the best to keep based on their values. To do so, we will use the `.isna()` function from Pandas Library. "
   ]
  },
  {
   "cell_type": "code",
   "execution_count": 161,
   "metadata": {},
   "outputs": [
    {
     "name": "stdout",
     "output_type": "stream",
     "text": [
      "Number of null rows by column name:\n",
      "id 0\n",
      "console-name: 0\n",
      "product-name: 0\n",
      "loose-price: 6021\n",
      "cib-price: 49388\n",
      "new-price: 42160\n",
      "graded-price: 23691\n",
      "box-only-price: 23446\n",
      "manual-only-price: 23412\n",
      "bgs-10-price: 23397\n",
      "condition-17-price: 23155\n",
      "condition-18-price: 23402\n",
      "gamestop-price: 60296\n",
      "gamestop-trade-price: 60296\n",
      "retail-loose-buy: 39523\n",
      "retail-loose-sell: 6021\n",
      "retail-cib-buy: 49912\n",
      "retail-cib-sell: 49388\n",
      "retail-new-buy: 42659\n",
      "retail-new-sell: 42160\n",
      "upc: 60295\n",
      "sales-volume: 0\n",
      "genre: 60296\n",
      "tcg-id: 29622\n",
      "asin: 60296\n",
      "epid: 60296\n",
      "release-date: 4616\n"
     ]
    }
   ],
   "source": [
    "print('Number of null rows by column name:')\n",
    "print('id', price_guide['id'].isna().sum())\n",
    "print('console-name:', price_guide['console-name'].isna().sum())\n",
    "print('product-name:', price_guide['product-name'].isna().sum())\n",
    "print('loose-price:', price_guide['loose-price'].isna().sum())\n",
    "print('cib-price:', price_guide['cib-price'].isna().sum())\n",
    "print('new-price:', price_guide['new-price'].isna().sum())\n",
    "print('graded-price:', price_guide['graded-price'].isna().sum())\n",
    "print('box-only-price:', price_guide['box-only-price'].isna().sum())\n",
    "print('manual-only-price:', price_guide['manual-only-price'].isna().sum())\n",
    "print('bgs-10-price:', price_guide['bgs-10-price'].isna().sum())\n",
    "print('condition-17-price:', price_guide['condition-17-price'].isna().sum())\n",
    "print('condition-18-price:', price_guide['condition-18-price'].isna().sum())\n",
    "print('gamestop-price:', price_guide['gamestop-price'].isna().sum())\n",
    "print('gamestop-trade-price:', price_guide['gamestop-trade-price'].isna().sum())\n",
    "print('retail-loose-buy:', price_guide['retail-loose-buy'].isna().sum())\n",
    "print('retail-loose-sell:', price_guide['retail-loose-sell'].isna().sum())\n",
    "print('retail-cib-buy:', price_guide['retail-cib-buy'].isna().sum())\n",
    "print('retail-cib-sell:', price_guide['retail-cib-sell'].isna().sum())\n",
    "print('retail-new-buy:', price_guide['retail-new-buy'].isna().sum())\n",
    "print('retail-new-sell:', price_guide['retail-new-sell'].isna().sum())\n",
    "print('upc:', price_guide['upc'].isna().sum())\n",
    "print('sales-volume:', price_guide['sales-volume'].isna().sum())\n",
    "print('genre:', price_guide['genre'].isna().sum())\n",
    "print('tcg-id:', price_guide['tcg-id'].isna().sum())\n",
    "print('asin:', price_guide['asin'].isna().sum())\n",
    "print('epid:', price_guide['epid'].isna().sum())\n",
    "print('release-date:', price_guide['release-date'].isna().sum())\n"
   ]
  },
  {
   "cell_type": "markdown",
   "metadata": {},
   "source": [
    "We will be dropping the following columns as they contain all (`genre` , `asin`,`epid` , `gamestop-price`) null rows. We have also set the `inplace` parameter to `True` because we do not want to make another copy of this dataframe in memory. "
   ]
  },
  {
   "cell_type": "code",
   "execution_count": 164,
   "metadata": {},
   "outputs": [],
   "source": [
    "price_guide.drop(columns=['gamestop-trade-price', 'gamestop-price',\n",
    "                         'asin', 'epid', 'genre', 'upc', 'tcg-id'], inplace=True)"
   ]
  },
  {
   "cell_type": "markdown",
   "metadata": {},
   "source": [
    "# Price Formatting conversion\n",
    "\n",
    "Currently, all the prices in our dataset are stored as a string of the format: $\\[some number\\]. In order to conduct our exploratory data analysis, we will need convert such strings to floating point numbers. To do this, we have implemented the `stringtoint` function below and have applied it to columns that are also listed below:"
   ]
  },
  {
   "cell_type": "code",
   "execution_count": 169,
   "metadata": {},
   "outputs": [],
   "source": [
    "def convert_price_columns(df):\n",
    "    def stringtoint(value):\n",
    "        if isinstance(value, str) and value.startswith('$'):\n",
    "            return float(value[1:])  \n",
    "        return float(value)  \n",
    "\n",
    "    for column in df.columns:\n",
    "        if df[column].apply(lambda x: isinstance(x, str) and x.startswith('$')).any():\n",
    "            df[column] = df[column].apply(stringtoint)\n",
    "    \n",
    "    return df\n",
    "\n",
    "price_guide = convert_price_columns(price_guide)"
   ]
  },
  {
   "cell_type": "code",
   "execution_count": 171,
   "metadata": {},
   "outputs": [],
   "source": [
    "cib_price_sub = price_guide[price_guide['cib-price'].notnull()]\n",
    "cib_price_sub = cib_price_sub.dropna()\n",
    "\n",
    "bgs_price_sub = price_guide[price_guide['bgs-10-price'].notnull()]\n",
    "bgs_price_sub = bgs_price_sub.dropna()\n",
    "\n",
    "box_only_price_sub = price_guide[price_guide['box-only-price'].notnull()]\n",
    "box_only_price_sub = box_only_price_sub.dropna()\n",
    "\n",
    "condition_17_price_sub = price_guide[price_guide['condition-17-price'].notnull()]\n",
    "condition_17_price_sub = condition_17_price_sub.dropna()\n",
    "\n",
    "condition_18_price_sub = price_guide[price_guide['condition-18-price'].notnull()]\n",
    "condition_18_price_sub = condition_18_price_sub.dropna()\n",
    "\n",
    "graded_price_sub = price_guide[price_guide['graded-price'].notnull()]\n",
    "graded_price_sub = graded_price_sub.dropna()\n",
    "\n",
    "loose_sub = price_guide[price_guide['loose-price'].notnull()]\n",
    "loose_sub = loose_sub.dropna()\n",
    "\n",
    "new_price_sub = price_guide[price_guide['new-price'].notnull()]\n",
    "new_price_sub = new_price_sub.dropna()\n",
    "\n",
    "manual_only_price_sub = price_guide[price_guide['manual-only-price'].notnull()]\n",
    "manual_only_price_sub = manual_only_price_sub.dropna()\n"
   ]
  },
  {
   "cell_type": "markdown",
   "metadata": {},
   "source": [
    "# Pairplots"
   ]
  },
  {
   "cell_type": "code",
   "execution_count": null,
   "metadata": {},
   "outputs": [],
   "source": [
    "selected_columns = ['loose-price', 'graded-price', 'box-only-price', \n",
    "                      'manual-only-price','bgs-10-price', 'sales-volume']  \n",
    "price_guide_subset = price_guide[selected_columns]\n",
    "\n",
    "sns.pairplot(price_guide_subset)\n",
    "plt.show()"
   ]
  },
  {
   "cell_type": "markdown",
   "metadata": {},
   "source": [
    "# Heatmap "
   ]
  },
  {
   "cell_type": "code",
   "execution_count": 175,
   "metadata": {},
   "outputs": [],
   "source": [
    "# price_guide_sub = price_guide[columns_to_convert].copy()  \n",
    "# price_guide_sub.loc[:, 'sales-volume'] = price_guide['sales-volume']\n",
    "# price_guide_sub"
   ]
  },
  {
   "cell_type": "code",
   "execution_count": null,
   "metadata": {},
   "outputs": [],
   "source": [
    "columns_for_corr = price_guide_subset\n",
    "\n",
    "corr_matrix = columns_for_corr.corr(method=\"pearson\")\n",
    "plt.figure(figsize=(8, 6))\n",
    "sns.heatmap(corr_matrix, center=0, vmin=-1, vmax=1, annot=True, cmap='RdBu')\n",
    "plt.title(\"Correlation Matrix Heatmap\")\n",
    "plt.show()"
   ]
  },
  {
   "cell_type": "code",
   "execution_count": 32,
   "metadata": {},
   "outputs": [
    {
     "name": "stdout",
     "output_type": "stream",
     "text": [
      "Number of unique values in the console-name columns 132\n",
      "   \n",
      "Top 3 uniquely occuring console-name values: \n",
      "console-name\n",
      "Pokemon Promo         254\n",
      "Pokemon Expedition    210\n",
      "Pokemon Aquapolis     168\n",
      "Pokemon Base Set      164\n",
      "Name: count, dtype: int64\n"
     ]
    }
   ],
   "source": [
    "print('Number of unique values in the console-name columns', price_guide['console-name'].nunique())\n",
    "print('   ')\n",
    "print('Top 3 uniquely occuring console-name values: ')\n",
    "print(price_guide['console-name'].value_counts().head(4))"
   ]
  },
  {
   "cell_type": "code",
   "execution_count": 33,
   "metadata": {},
   "outputs": [
    {
     "ename": "KeyError",
     "evalue": "\"['bgs-10-priceconsole-name'] not in index\"",
     "output_type": "error",
     "traceback": [
      "\u001b[0;31m---------------------------------------------------------------------------\u001b[0m",
      "\u001b[0;31mKeyError\u001b[0m                                  Traceback (most recent call last)",
      "Cell \u001b[0;32mIn[33], line 5\u001b[0m\n\u001b[1;32m      1\u001b[0m new_columns_to_convert \u001b[38;5;241m=\u001b[39m [\u001b[38;5;124m'\u001b[39m\u001b[38;5;124mloose-price\u001b[39m\u001b[38;5;124m'\u001b[39m, \u001b[38;5;124m'\u001b[39m\u001b[38;5;124mgraded-price\u001b[39m\u001b[38;5;124m'\u001b[39m, \u001b[38;5;124m'\u001b[39m\u001b[38;5;124mbox-only-price\u001b[39m\u001b[38;5;124m'\u001b[39m, \n\u001b[1;32m      2\u001b[0m                           \u001b[38;5;124m'\u001b[39m\u001b[38;5;124mmanual-only-price\u001b[39m\u001b[38;5;124m'\u001b[39m, \u001b[38;5;124m'\u001b[39m\u001b[38;5;124mbgs-10-price\u001b[39m\u001b[38;5;124m'\u001b[39m \n\u001b[1;32m      3\u001b[0m                           \u001b[38;5;124m'\u001b[39m\u001b[38;5;124mconsole-name\u001b[39m\u001b[38;5;124m'\u001b[39m]\n\u001b[0;32m----> 5\u001b[0m price_guide_subset \u001b[38;5;241m=\u001b[39m price_guide[new_columns_to_convert]\n\u001b[1;32m      6\u001b[0m top_three_consoles \u001b[38;5;241m=\u001b[39m price_guide_subset[\u001b[38;5;124m'\u001b[39m\u001b[38;5;124mconsole-name\u001b[39m\u001b[38;5;124m'\u001b[39m]\u001b[38;5;241m.\u001b[39mvalue_counts()\u001b[38;5;241m.\u001b[39mhead(\u001b[38;5;241m3\u001b[39m)\u001b[38;5;241m.\u001b[39mindex\n\u001b[1;32m      8\u001b[0m \u001b[38;5;66;03m# Use .loc to create the filtered DataFrame and avoid SettingWithCopyWarning\u001b[39;00m\n",
      "File \u001b[0;32m/opt/anaconda3/lib/python3.12/site-packages/pandas/core/frame.py:4108\u001b[0m, in \u001b[0;36mDataFrame.__getitem__\u001b[0;34m(self, key)\u001b[0m\n\u001b[1;32m   4106\u001b[0m     \u001b[38;5;28;01mif\u001b[39;00m is_iterator(key):\n\u001b[1;32m   4107\u001b[0m         key \u001b[38;5;241m=\u001b[39m \u001b[38;5;28mlist\u001b[39m(key)\n\u001b[0;32m-> 4108\u001b[0m     indexer \u001b[38;5;241m=\u001b[39m \u001b[38;5;28mself\u001b[39m\u001b[38;5;241m.\u001b[39mcolumns\u001b[38;5;241m.\u001b[39m_get_indexer_strict(key, \u001b[38;5;124m\"\u001b[39m\u001b[38;5;124mcolumns\u001b[39m\u001b[38;5;124m\"\u001b[39m)[\u001b[38;5;241m1\u001b[39m]\n\u001b[1;32m   4110\u001b[0m \u001b[38;5;66;03m# take() does not accept boolean indexers\u001b[39;00m\n\u001b[1;32m   4111\u001b[0m \u001b[38;5;28;01mif\u001b[39;00m \u001b[38;5;28mgetattr\u001b[39m(indexer, \u001b[38;5;124m\"\u001b[39m\u001b[38;5;124mdtype\u001b[39m\u001b[38;5;124m\"\u001b[39m, \u001b[38;5;28;01mNone\u001b[39;00m) \u001b[38;5;241m==\u001b[39m \u001b[38;5;28mbool\u001b[39m:\n",
      "File \u001b[0;32m/opt/anaconda3/lib/python3.12/site-packages/pandas/core/indexes/base.py:6200\u001b[0m, in \u001b[0;36mIndex._get_indexer_strict\u001b[0;34m(self, key, axis_name)\u001b[0m\n\u001b[1;32m   6197\u001b[0m \u001b[38;5;28;01melse\u001b[39;00m:\n\u001b[1;32m   6198\u001b[0m     keyarr, indexer, new_indexer \u001b[38;5;241m=\u001b[39m \u001b[38;5;28mself\u001b[39m\u001b[38;5;241m.\u001b[39m_reindex_non_unique(keyarr)\n\u001b[0;32m-> 6200\u001b[0m \u001b[38;5;28mself\u001b[39m\u001b[38;5;241m.\u001b[39m_raise_if_missing(keyarr, indexer, axis_name)\n\u001b[1;32m   6202\u001b[0m keyarr \u001b[38;5;241m=\u001b[39m \u001b[38;5;28mself\u001b[39m\u001b[38;5;241m.\u001b[39mtake(indexer)\n\u001b[1;32m   6203\u001b[0m \u001b[38;5;28;01mif\u001b[39;00m \u001b[38;5;28misinstance\u001b[39m(key, Index):\n\u001b[1;32m   6204\u001b[0m     \u001b[38;5;66;03m# GH 42790 - Preserve name from an Index\u001b[39;00m\n",
      "File \u001b[0;32m/opt/anaconda3/lib/python3.12/site-packages/pandas/core/indexes/base.py:6252\u001b[0m, in \u001b[0;36mIndex._raise_if_missing\u001b[0;34m(self, key, indexer, axis_name)\u001b[0m\n\u001b[1;32m   6249\u001b[0m     \u001b[38;5;28;01mraise\u001b[39;00m \u001b[38;5;167;01mKeyError\u001b[39;00m(\u001b[38;5;124mf\u001b[39m\u001b[38;5;124m\"\u001b[39m\u001b[38;5;124mNone of [\u001b[39m\u001b[38;5;132;01m{\u001b[39;00mkey\u001b[38;5;132;01m}\u001b[39;00m\u001b[38;5;124m] are in the [\u001b[39m\u001b[38;5;132;01m{\u001b[39;00maxis_name\u001b[38;5;132;01m}\u001b[39;00m\u001b[38;5;124m]\u001b[39m\u001b[38;5;124m\"\u001b[39m)\n\u001b[1;32m   6251\u001b[0m not_found \u001b[38;5;241m=\u001b[39m \u001b[38;5;28mlist\u001b[39m(ensure_index(key)[missing_mask\u001b[38;5;241m.\u001b[39mnonzero()[\u001b[38;5;241m0\u001b[39m]]\u001b[38;5;241m.\u001b[39munique())\n\u001b[0;32m-> 6252\u001b[0m \u001b[38;5;28;01mraise\u001b[39;00m \u001b[38;5;167;01mKeyError\u001b[39;00m(\u001b[38;5;124mf\u001b[39m\u001b[38;5;124m\"\u001b[39m\u001b[38;5;132;01m{\u001b[39;00mnot_found\u001b[38;5;132;01m}\u001b[39;00m\u001b[38;5;124m not in index\u001b[39m\u001b[38;5;124m\"\u001b[39m)\n",
      "\u001b[0;31mKeyError\u001b[0m: \"['bgs-10-priceconsole-name'] not in index\""
     ]
    }
   ],
   "source": [
    "new_columns_to_convert = ['loose-price', 'graded-price', 'box-only-price', \n",
    "                          'manual-only-price', 'bgs-10-price' \n",
    "                          'console-name']\n",
    "\n",
    "price_guide_subset = price_guide[new_columns_to_convert]\n",
    "top_three_consoles = price_guide_subset['console-name'].value_counts().head(3).index\n",
    "\n",
    "# Use .loc to create the filtered DataFrame and avoid SettingWithCopyWarning\n",
    "console_df = price_guide.loc[price_guide['console-name'].isin(top_three_consoles)].copy()\n",
    "console_df['console-name'] = console_df['console-name'].astype('category')\n",
    "\n",
    "# sns.pairplot(console_df, hue='console-name')\n"
   ]
  },
  {
   "cell_type": "code",
   "execution_count": null,
   "metadata": {},
   "outputs": [],
   "source": [
    "sns.pairplot(console_df, hue='console-name')"
   ]
  },
  {
   "cell_type": "code",
   "execution_count": null,
   "metadata": {},
   "outputs": [],
   "source": []
  }
 ],
 "metadata": {
  "colab": {
   "provenance": []
  },
  "kernelspec": {
   "display_name": "Python 3 (ipykernel)",
   "language": "python",
   "name": "python3"
  },
  "language_info": {
   "codemirror_mode": {
    "name": "ipython",
    "version": 3
   },
   "file_extension": ".py",
   "mimetype": "text/x-python",
   "name": "python",
   "nbconvert_exporter": "python",
   "pygments_lexer": "ipython3",
   "version": "3.12.2"
  }
 },
 "nbformat": 4,
 "nbformat_minor": 4
}
