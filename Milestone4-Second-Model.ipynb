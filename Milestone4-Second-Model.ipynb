{
 "cells": [
  {
   "cell_type": "markdown",
   "id": "59440d01-78d8-471a-9078-e2e118cb7bb6",
   "metadata": {},
   "source": [
    "# Milestone 4: Second Model"
   ]
  },
  {
   "cell_type": "markdown",
   "id": "45efc9f7-1a37-4f59-901d-5b2a8879db71",
   "metadata": {},
   "source": [
    "## Imports"
   ]
  },
  {
   "cell_type": "code",
   "execution_count": 52,
   "id": "6f51e36e-1084-48fb-8c60-d846971a1919",
   "metadata": {},
   "outputs": [],
   "source": [
    "import pandas as pd\n",
    "import numpy as np\n",
    "import torch\n",
    "from torch import nn\n",
    "from torch.utils.data import DataLoader, TensorDataset, random_split\n",
    "from sklearn.preprocessing import OneHotEncoder, StandardScaler\n",
    "from sklearn.metrics import accuracy_score, classification_report"
   ]
  },
  {
   "cell_type": "code",
   "execution_count": null,
   "id": "f064f771-b3b2-4fc3-8872-97131a7c8f87",
   "metadata": {},
   "outputs": [],
   "source": []
  },
  {
   "cell_type": "markdown",
   "id": "3d4c5881-4e5b-421b-be16-5e62da907595",
   "metadata": {},
   "source": [
    "## Data Loading"
   ]
  },
  {
   "cell_type": "code",
   "execution_count": 56,
   "id": "2c2457f3-e40f-4887-a9ee-38f385398e4e",
   "metadata": {},
   "outputs": [
    {
     "data": {
      "text/html": [
       "<div>\n",
       "<style scoped>\n",
       "    .dataframe tbody tr th:only-of-type {\n",
       "        vertical-align: middle;\n",
       "    }\n",
       "\n",
       "    .dataframe tbody tr th {\n",
       "        vertical-align: top;\n",
       "    }\n",
       "\n",
       "    .dataframe thead th {\n",
       "        text-align: right;\n",
       "    }\n",
       "</style>\n",
       "<table border=\"1\" class=\"dataframe\">\n",
       "  <thead>\n",
       "    <tr style=\"text-align: right;\">\n",
       "      <th></th>\n",
       "      <th>id</th>\n",
       "      <th>loose-price</th>\n",
       "      <th>graded-price</th>\n",
       "      <th>box-only-price</th>\n",
       "      <th>manual-only-price</th>\n",
       "      <th>bgs-10-price</th>\n",
       "      <th>condition-17-price</th>\n",
       "      <th>condition-18-price</th>\n",
       "      <th>sales-volume</th>\n",
       "      <th>hp</th>\n",
       "    </tr>\n",
       "  </thead>\n",
       "  <tbody>\n",
       "    <tr>\n",
       "      <th>count</th>\n",
       "      <td>3.030000e+04</td>\n",
       "      <td>30132.000000</td>\n",
       "      <td>23242.000000</td>\n",
       "      <td>23345.000000</td>\n",
       "      <td>22502.000000</td>\n",
       "      <td>22504.000000</td>\n",
       "      <td>22653.000000</td>\n",
       "      <td>22507.000000</td>\n",
       "      <td>30300.000000</td>\n",
       "      <td>25631.000000</td>\n",
       "    </tr>\n",
       "    <tr>\n",
       "      <th>mean</th>\n",
       "      <td>1.815578e+06</td>\n",
       "      <td>9.113746</td>\n",
       "      <td>40.473400</td>\n",
       "      <td>50.029936</td>\n",
       "      <td>169.867231</td>\n",
       "      <td>260.751890</td>\n",
       "      <td>144.303368</td>\n",
       "      <td>101.864726</td>\n",
       "      <td>48.108482</td>\n",
       "      <td>96.110569</td>\n",
       "    </tr>\n",
       "    <tr>\n",
       "      <th>std</th>\n",
       "      <td>1.610918e+06</td>\n",
       "      <td>57.197150</td>\n",
       "      <td>203.630556</td>\n",
       "      <td>280.753070</td>\n",
       "      <td>1698.911993</td>\n",
       "      <td>2705.228337</td>\n",
       "      <td>641.144056</td>\n",
       "      <td>1019.301576</td>\n",
       "      <td>102.838685</td>\n",
       "      <td>52.140362</td>\n",
       "    </tr>\n",
       "    <tr>\n",
       "      <th>min</th>\n",
       "      <td>2.522800e+04</td>\n",
       "      <td>0.010000</td>\n",
       "      <td>0.140000</td>\n",
       "      <td>0.990000</td>\n",
       "      <td>0.980000</td>\n",
       "      <td>0.990000</td>\n",
       "      <td>1.000000</td>\n",
       "      <td>1.000000</td>\n",
       "      <td>1.000000</td>\n",
       "      <td>10.000000</td>\n",
       "    </tr>\n",
       "    <tr>\n",
       "      <th>25%</th>\n",
       "      <td>8.887088e+05</td>\n",
       "      <td>1.340000</td>\n",
       "      <td>12.060000</td>\n",
       "      <td>13.000000</td>\n",
       "      <td>34.910000</td>\n",
       "      <td>52.000000</td>\n",
       "      <td>44.000000</td>\n",
       "      <td>21.000000</td>\n",
       "      <td>5.000000</td>\n",
       "      <td>60.000000</td>\n",
       "    </tr>\n",
       "    <tr>\n",
       "      <th>50%</th>\n",
       "      <td>9.596655e+05</td>\n",
       "      <td>1.990000</td>\n",
       "      <td>16.065000</td>\n",
       "      <td>18.000000</td>\n",
       "      <td>42.720000</td>\n",
       "      <td>65.000000</td>\n",
       "      <td>50.000000</td>\n",
       "      <td>26.000000</td>\n",
       "      <td>12.000000</td>\n",
       "      <td>80.000000</td>\n",
       "    </tr>\n",
       "    <tr>\n",
       "      <th>75%</th>\n",
       "      <td>2.254008e+06</td>\n",
       "      <td>4.292500</td>\n",
       "      <td>29.807500</td>\n",
       "      <td>33.000000</td>\n",
       "      <td>90.045000</td>\n",
       "      <td>137.000000</td>\n",
       "      <td>99.990000</td>\n",
       "      <td>54.000000</td>\n",
       "      <td>38.000000</td>\n",
       "      <td>120.000000</td>\n",
       "    </tr>\n",
       "    <tr>\n",
       "      <th>max</th>\n",
       "      <td>7.747251e+06</td>\n",
       "      <td>4223.260000</td>\n",
       "      <td>17033.540000</td>\n",
       "      <td>27550.000000</td>\n",
       "      <td>221599.740000</td>\n",
       "      <td>332400.000000</td>\n",
       "      <td>42316.000000</td>\n",
       "      <td>132960.000000</td>\n",
       "      <td>1837.000000</td>\n",
       "      <td>340.000000</td>\n",
       "    </tr>\n",
       "  </tbody>\n",
       "</table>\n",
       "</div>"
      ],
      "text/plain": [
       "                 id   loose-price  graded-price  box-only-price  \\\n",
       "count  3.030000e+04  30132.000000  23242.000000    23345.000000   \n",
       "mean   1.815578e+06      9.113746     40.473400       50.029936   \n",
       "std    1.610918e+06     57.197150    203.630556      280.753070   \n",
       "min    2.522800e+04      0.010000      0.140000        0.990000   \n",
       "25%    8.887088e+05      1.340000     12.060000       13.000000   \n",
       "50%    9.596655e+05      1.990000     16.065000       18.000000   \n",
       "75%    2.254008e+06      4.292500     29.807500       33.000000   \n",
       "max    7.747251e+06   4223.260000  17033.540000    27550.000000   \n",
       "\n",
       "       manual-only-price   bgs-10-price  condition-17-price  \\\n",
       "count       22502.000000   22504.000000        22653.000000   \n",
       "mean          169.867231     260.751890          144.303368   \n",
       "std          1698.911993    2705.228337          641.144056   \n",
       "min             0.980000       0.990000            1.000000   \n",
       "25%            34.910000      52.000000           44.000000   \n",
       "50%            42.720000      65.000000           50.000000   \n",
       "75%            90.045000     137.000000           99.990000   \n",
       "max        221599.740000  332400.000000        42316.000000   \n",
       "\n",
       "       condition-18-price  sales-volume            hp  \n",
       "count        22507.000000  30300.000000  25631.000000  \n",
       "mean           101.864726     48.108482     96.110569  \n",
       "std           1019.301576    102.838685     52.140362  \n",
       "min              1.000000      1.000000     10.000000  \n",
       "25%             21.000000      5.000000     60.000000  \n",
       "50%             26.000000     12.000000     80.000000  \n",
       "75%             54.000000     38.000000    120.000000  \n",
       "max         132960.000000   1837.000000    340.000000  "
      ]
     },
     "execution_count": 56,
     "metadata": {},
     "output_type": "execute_result"
    }
   ],
   "source": [
    "price_guide_tcg = pd.read_csv(\"price_guide_tcg_cleaned.csv\", low_memory=False)\n",
    "price_guide_tcg.dropna()\n",
    "price_guide_tcg.describe()"
   ]
  },
  {
   "cell_type": "code",
   "execution_count": 58,
   "id": "c0803e7b-32dc-403e-a8be-d84a3083c360",
   "metadata": {},
   "outputs": [
    {
     "name": "stdout",
     "output_type": "stream",
     "text": [
      "         rarity          types generation  bgs-10-price  graded-price     hp  \\\n",
      "0      Uncommon            NaN      Sixth           NaN           NaN    NaN   \n",
      "1      Uncommon            NaN      Sixth           NaN           NaN    NaN   \n",
      "2      Uncommon            NaN      Sixth           NaN           NaN    NaN   \n",
      "3      Uncommon            NaN      Sixth          58.0         15.11    NaN   \n",
      "4  Rare Holo EX  ['Lightning']      Sixth          62.0         28.09  170.0   \n",
      "\n",
      "   sales-volume  \n",
      "0           5.0  \n",
      "1           1.0  \n",
      "2           1.0  \n",
      "3           7.0  \n",
      "4          81.0  \n"
     ]
    }
   ],
   "source": [
    "subset_df = price_guide_tcg[['rarity', 'types', 'generation', 'bgs-10-price', 'graded-price', 'hp', 'sales-volume']].copy()\n",
    "print(subset_df.head())"
   ]
  },
  {
   "cell_type": "code",
   "execution_count": 60,
   "id": "02fbe86c-9484-41ed-82f1-f9136e3a34e3",
   "metadata": {},
   "outputs": [],
   "source": [
    "thresholds = {\n",
    "    'types': 1000  ,        # Minimum count for 'types'\n",
    "    'rarity': 1000  ,    # Minimum count for 'rarity'\n",
    "    'generation':1500\n",
    "}"
   ]
  },
  {
   "cell_type": "code",
   "execution_count": 62,
   "id": "3cba3bce-1af9-4c1d-95c0-d3bcee853884",
   "metadata": {},
   "outputs": [],
   "source": [
    "for col, threshold in thresholds.items():\n",
    "    counts = subset_df[col].value_counts()\n",
    "    valid_categories = counts[counts >= threshold].index\n",
    "    subset_df = subset_df[subset_df[col].isin(valid_categories)]"
   ]
  },
  {
   "cell_type": "code",
   "execution_count": 64,
   "id": "f5069cd6-9deb-433d-bd8c-73cf1b317e21",
   "metadata": {},
   "outputs": [
    {
     "data": {
      "text/plain": [
       "(18487, 7)"
      ]
     },
     "execution_count": 64,
     "metadata": {},
     "output_type": "execute_result"
    }
   ],
   "source": [
    "subset_df.shape"
   ]
  },
  {
   "cell_type": "code",
   "execution_count": 66,
   "id": "477bd48f-7d94-48af-8fca-90ec74380094",
   "metadata": {},
   "outputs": [],
   "source": [
    "subset_df = subset_df.dropna()"
   ]
  },
  {
   "cell_type": "code",
   "execution_count": 68,
   "id": "9be3c06e-5fa2-494c-87c5-14f71f3a7d5f",
   "metadata": {},
   "outputs": [
    {
     "data": {
      "text/plain": [
       "(12759, 7)"
      ]
     },
     "execution_count": 68,
     "metadata": {},
     "output_type": "execute_result"
    }
   ],
   "source": [
    "subset_df.shape"
   ]
  },
  {
   "cell_type": "code",
   "execution_count": 70,
   "id": "b5a53619-820a-4ee9-b051-aad9d48ad9ea",
   "metadata": {},
   "outputs": [
    {
     "data": {
      "text/html": [
       "<div>\n",
       "<style scoped>\n",
       "    .dataframe tbody tr th:only-of-type {\n",
       "        vertical-align: middle;\n",
       "    }\n",
       "\n",
       "    .dataframe tbody tr th {\n",
       "        vertical-align: top;\n",
       "    }\n",
       "\n",
       "    .dataframe thead th {\n",
       "        text-align: right;\n",
       "    }\n",
       "</style>\n",
       "<table border=\"1\" class=\"dataframe\">\n",
       "  <thead>\n",
       "    <tr style=\"text-align: right;\">\n",
       "      <th></th>\n",
       "      <th>rarity</th>\n",
       "      <th>types</th>\n",
       "      <th>generation</th>\n",
       "      <th>bgs-10-price</th>\n",
       "      <th>graded-price</th>\n",
       "      <th>hp</th>\n",
       "      <th>sales-volume</th>\n",
       "    </tr>\n",
       "  </thead>\n",
       "  <tbody>\n",
       "    <tr>\n",
       "      <th>9</th>\n",
       "      <td>Uncommon</td>\n",
       "      <td>['Grass']</td>\n",
       "      <td>Sixth</td>\n",
       "      <td>58.0</td>\n",
       "      <td>15.01</td>\n",
       "      <td>70.0</td>\n",
       "      <td>7.0</td>\n",
       "    </tr>\n",
       "    <tr>\n",
       "      <th>12</th>\n",
       "      <td>Common</td>\n",
       "      <td>['Psychic']</td>\n",
       "      <td>Sixth</td>\n",
       "      <td>36.0</td>\n",
       "      <td>9.28</td>\n",
       "      <td>60.0</td>\n",
       "      <td>29.0</td>\n",
       "    </tr>\n",
       "    <tr>\n",
       "      <th>13</th>\n",
       "      <td>Common</td>\n",
       "      <td>['Psychic']</td>\n",
       "      <td>Sixth</td>\n",
       "      <td>90.0</td>\n",
       "      <td>16.34</td>\n",
       "      <td>60.0</td>\n",
       "      <td>14.0</td>\n",
       "    </tr>\n",
       "    <tr>\n",
       "      <th>16</th>\n",
       "      <td>Uncommon</td>\n",
       "      <td>['Grass']</td>\n",
       "      <td>Sixth</td>\n",
       "      <td>58.0</td>\n",
       "      <td>23.00</td>\n",
       "      <td>120.0</td>\n",
       "      <td>24.0</td>\n",
       "    </tr>\n",
       "    <tr>\n",
       "      <th>17</th>\n",
       "      <td>Uncommon</td>\n",
       "      <td>['Grass']</td>\n",
       "      <td>Sixth</td>\n",
       "      <td>58.0</td>\n",
       "      <td>15.01</td>\n",
       "      <td>120.0</td>\n",
       "      <td>12.0</td>\n",
       "    </tr>\n",
       "  </tbody>\n",
       "</table>\n",
       "</div>"
      ],
      "text/plain": [
       "      rarity        types generation  bgs-10-price  graded-price     hp  \\\n",
       "9   Uncommon    ['Grass']      Sixth          58.0         15.01   70.0   \n",
       "12    Common  ['Psychic']      Sixth          36.0          9.28   60.0   \n",
       "13    Common  ['Psychic']      Sixth          90.0         16.34   60.0   \n",
       "16  Uncommon    ['Grass']      Sixth          58.0         23.00  120.0   \n",
       "17  Uncommon    ['Grass']      Sixth          58.0         15.01  120.0   \n",
       "\n",
       "    sales-volume  \n",
       "9            7.0  \n",
       "12          29.0  \n",
       "13          14.0  \n",
       "16          24.0  \n",
       "17          12.0  "
      ]
     },
     "execution_count": 70,
     "metadata": {},
     "output_type": "execute_result"
    }
   ],
   "source": [
    "subset_df.head()"
   ]
  },
  {
   "cell_type": "markdown",
   "id": "d8d5b655-e872-4d24-8540-6c74a14c33a3",
   "metadata": {},
   "source": [
    "## Model 2"
   ]
  },
  {
   "cell_type": "code",
   "execution_count": 73,
   "id": "fcfb55da-bf62-4caa-a2d4-e26f3633b7a0",
   "metadata": {},
   "outputs": [],
   "source": [
    "subset_df['rarity_grouped'] = subset_df['rarity'].map(\n",
    "    lambda x: 'Common/Uncommon' if x in ['Common', 'Uncommon'] else 'Rare/Rare Holo'\n",
    ")"
   ]
  },
  {
   "cell_type": "code",
   "execution_count": 75,
   "id": "849ea6c3-0d6a-4ce6-a0f9-3bb13322a8d4",
   "metadata": {},
   "outputs": [],
   "source": [
    "subset_df['rarity_encoded'] = subset_df['rarity_grouped'].map(\n",
    "    {'Common/Uncommon': 0, 'Rare/Rare Holo': 1}\n",
    ")"
   ]
  },
  {
   "cell_type": "code",
   "execution_count": 77,
   "id": "25d1442d-41cf-4bab-bcac-2f2cad55fa3b",
   "metadata": {},
   "outputs": [],
   "source": [
    "encoder = OneHotEncoder()\n",
    "types_encoded = encoder.fit_transform(subset_df[['types']]).toarray()\n",
    "generation_encoded = encoder.fit_transform(subset_df[['generation']]).toarray()\n",
    "numerical_features = ['bgs-10-price', 'graded-price', 'hp', 'sales-volume']"
   ]
  },
  {
   "cell_type": "code",
   "execution_count": 79,
   "id": "415dabd2-8573-4ee3-971e-222cb3d966e6",
   "metadata": {},
   "outputs": [],
   "source": [
    "scaler = StandardScaler()\n",
    "numerical_data = scaler.fit_transform(subset_df[numerical_features])"
   ]
  },
  {
   "cell_type": "code",
   "execution_count": 81,
   "id": "30caa999-9362-4d76-a166-e7149c02cf9e",
   "metadata": {},
   "outputs": [
    {
     "name": "stdout",
     "output_type": "stream",
     "text": [
      "Final features shape: (12759, 21)\n"
     ]
    }
   ],
   "source": [
    "final_features = np.hstack([types_encoded, generation_encoded, numerical_data])\n",
    "print(f\"Final features shape: {final_features.shape}\")"
   ]
  },
  {
   "cell_type": "code",
   "execution_count": 83,
   "id": "ca4bdf5b-af49-4489-9e0f-c0748f5b9372",
   "metadata": {},
   "outputs": [],
   "source": [
    "y = subset_df['rarity_encoded'].values\n",
    "X_tensor = torch.tensor(final_features, dtype=torch.float32)\n",
    "y_tensor = torch.tensor(y, dtype=torch.float32).unsqueeze(1)"
   ]
  },
  {
   "cell_type": "code",
   "execution_count": 85,
   "id": "f6835305-37b6-4364-afd1-4827a38bd81e",
   "metadata": {},
   "outputs": [],
   "source": [
    "dataset = TensorDataset(X_tensor, y_tensor)\n",
    "train_size = int(0.7 * len(dataset))\n",
    "test_size = len(dataset) - train_size\n",
    "train_dataset, test_dataset = random_split(dataset, [train_size, test_size])\n",
    "\n",
    "train_loader = DataLoader(train_dataset, batch_size=32, shuffle=True)\n",
    "test_loader = DataLoader(test_dataset, batch_size=32, shuffle=False)\n"
   ]
  },
  {
   "cell_type": "code",
   "execution_count": 87,
   "id": "6d8eea41-0172-42ec-bcf7-9030ea797b25",
   "metadata": {},
   "outputs": [],
   "source": [
    "class NeuralNet(nn.Module):\n",
    "    def __init__(self, input_size):\n",
    "        super(NeuralNet, self).__init__()\n",
    "        self.fc1 = nn.Linear(input_size, 64)\n",
    "        self.dropout1 = nn.Dropout(0.3)\n",
    "        self.fc2 = nn.Linear(64, 32)\n",
    "        self.dropout2 = nn.Dropout(0.3)\n",
    "        self.fc3 = nn.Linear(32, 1)\n",
    "        self.sigmoid = nn.Sigmoid()\n",
    "\n",
    "    def forward(self, x):\n",
    "        x = torch.relu(self.fc1(x))\n",
    "        x = self.dropout1(x)\n",
    "        x = torch.relu(self.fc2(x))\n",
    "        x = self.dropout2(x)\n",
    "        x = self.sigmoid(self.fc3(x))\n",
    "        return x"
   ]
  },
  {
   "cell_type": "code",
   "execution_count": 89,
   "id": "c0fb8a82-9261-4f3d-a6c7-8c7271ec700f",
   "metadata": {},
   "outputs": [],
   "source": [
    "input_size = final_features.shape[1]\n",
    "model = NeuralNet(input_size)\n",
    "\n",
    "criterion = nn.BCELoss()  # Binary Cross-Entropy Loss\n",
    "optimizer = torch.optim.SGD(model.parameters(), lr=0.001)"
   ]
  },
  {
   "cell_type": "code",
   "execution_count": 91,
   "id": "863e834f-075a-4a1a-91ee-23eb1bedb125",
   "metadata": {},
   "outputs": [],
   "source": [
    "epochs = 50\n",
    "for epoch in range(epochs):\n",
    "    model.train()\n",
    "    train_loss = 0.0\n",
    "    for X_batch, y_batch in train_loader:\n",
    "        optimizer.zero_grad()\n",
    "        outputs = model(X_batch)\n",
    "        loss = criterion(outputs, y_batch)\n",
    "        loss.backward()\n",
    "        optimizer.step()\n",
    "        train_loss += loss.item()"
   ]
  },
  {
   "cell_type": "code",
   "execution_count": 92,
   "id": "bc0c981d-30af-475b-9d47-019e3cc13df0",
   "metadata": {},
   "outputs": [],
   "source": [
    "model.eval()\n",
    "y_true = []\n",
    "y_pred = []\n",
    "\n",
    "with torch.no_grad():\n",
    "    for X_batch, y_batch in test_loader:\n",
    "        outputs = model(X_batch)\n",
    "        predictions = (outputs > 0.5).float()\n",
    "        y_true.extend(y_batch.numpy())\n",
    "        y_pred.extend(predictions.numpy())"
   ]
  },
  {
   "cell_type": "markdown",
   "id": "2ad19892-04ac-4e1a-99ba-3143ce0a2e58",
   "metadata": {},
   "source": [
    "## Model 2 -- Evaluation"
   ]
  },
  {
   "cell_type": "code",
   "execution_count": 94,
   "id": "0df37e0c-9798-409c-8554-4b3d18e5fa68",
   "metadata": {},
   "outputs": [],
   "source": [
    "y_true = np.array(y_true).flatten()\n",
    "y_pred = np.array(y_pred).flatten()\n"
   ]
  },
  {
   "cell_type": "code",
   "execution_count": 95,
   "id": "33c2944e-3e0b-4179-aaca-a92ae1cce626",
   "metadata": {},
   "outputs": [
    {
     "name": "stdout",
     "output_type": "stream",
     "text": [
      "Accuracy: 0.7855276907001045\n",
      "Classification Report:\n",
      "               precision    recall  f1-score   support\n",
      "\n",
      "         0.0       0.79      0.88      0.83      2285\n",
      "         1.0       0.78      0.65      0.71      1543\n",
      "\n",
      "    accuracy                           0.79      3828\n",
      "   macro avg       0.78      0.76      0.77      3828\n",
      "weighted avg       0.79      0.79      0.78      3828\n",
      "\n"
     ]
    }
   ],
   "source": [
    "print(\"Accuracy:\", accuracy_score(y_true, y_pred))\n",
    "print(\"Classification Report:\\n\", classification_report(y_true, y_pred))"
   ]
  },
  {
   "cell_type": "code",
   "execution_count": null,
   "id": "6db551ba-a661-4da5-834b-163352d4aec1",
   "metadata": {},
   "outputs": [],
   "source": []
  }
 ],
 "metadata": {
  "kernelspec": {
   "display_name": "Python 3 (ipykernel)",
   "language": "python",
   "name": "python3"
  },
  "language_info": {
   "codemirror_mode": {
    "name": "ipython",
    "version": 3
   },
   "file_extension": ".py",
   "mimetype": "text/x-python",
   "name": "python",
   "nbconvert_exporter": "python",
   "pygments_lexer": "ipython3",
   "version": "3.12.2"
  }
 },
 "nbformat": 4,
 "nbformat_minor": 5
}
